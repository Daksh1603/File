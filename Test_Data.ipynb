{
 "cells": [
  {
   "cell_type": "code",
   "execution_count": 1,
   "metadata": {},
   "outputs": [
    {
     "name": "stdout",
     "output_type": "stream",
     "text": [
      "Using pynwb v2.3.1\n"
     ]
    }
   ],
   "source": [
    "# import modules\n",
    "from datetime import datetime, tzinfo, timedelta\n",
    "import hdmf._version\n",
    "from dateutil.tz import tzlocal\n",
    "import platform\n",
    "import math\n",
    "import numpy as np\n",
    "import uuid\n",
    "import os\n",
    "from os import environ\n",
    "import scipy.io as sio\n",
    "from hdmf.backends.hdf5.h5_utils import H5DataIO\n",
    "import pandas as pd\n",
    "\n",
    "#https://pypi.org/project/pyabf/\n",
    "import pyabf\n",
    "\n",
    "import pynwb\n",
    "print('Using pynwb v%s'%pynwb.__version__)\n",
    "\n"
   ]
  },
  {
   "cell_type": "markdown",
   "metadata": {},
   "source": [
    "## Overview of all data sets"
   ]
  },
  {
   "cell_type": "code",
   "execution_count": 2,
   "metadata": {},
   "outputs": [
    {
     "data": {
      "text/plain": [
       "'C:\\\\Users\\\\Daksh Rathore\\\\INCF_Project'"
      ]
     },
     "execution_count": 2,
     "metadata": {},
     "output_type": "execute_result"
    }
   ],
   "source": [
    "os. getcwd()"
   ]
  },
  {
   "cell_type": "code",
   "execution_count": 3,
   "metadata": {},
   "outputs": [],
   "source": [
    "import matplotlib.pyplot as plt\n",
    "%matplotlib inline "
   ]
  },
  {
   "cell_type": "markdown",
   "metadata": {},
   "source": [
    "# Studying the variables "
   ]
  },
  {
   "cell_type": "code",
   "execution_count": 4,
   "metadata": {},
   "outputs": [],
   "source": [
    "rn1_mat = sio.loadmat('Stimulus/rn1-matrix.mat')\n",
    "rn1_par = sio.loadmat('Stimulus/rn1-param.mat')"
   ]
  },
  {
   "cell_type": "code",
   "execution_count": 5,
   "metadata": {},
   "outputs": [],
   "source": [
    "site1 = sio.loadmat('Data/Site1-rn1.mat')"
   ]
  },
  {
   "cell_type": "code",
   "execution_count": 6,
   "metadata": {},
   "outputs": [
    {
     "data": {
      "text/plain": [
       "['__globals__', '__header__', '__version__', 'stim_mat']"
      ]
     },
     "execution_count": 6,
     "metadata": {},
     "output_type": "execute_result"
    }
   ],
   "source": [
    "key_set = sorted(rn1_mat.keys())\n",
    "key_set"
   ]
  },
  {
   "cell_type": "code",
   "execution_count": 7,
   "metadata": {},
   "outputs": [
    {
     "name": "stdout",
     "output_type": "stream",
     "text": [
      "Contents of MAT file\n"
     ]
    },
    {
     "data": {
      "text/plain": [
       "['__globals__', '__header__', '__version__', 'spk', 'trigger']"
      ]
     },
     "execution_count": 7,
     "metadata": {},
     "output_type": "execute_result"
    }
   ],
   "source": [
    "print('Contents of MAT file')\n",
    "key_set = sorted(site1.keys())\n",
    "key_set"
   ]
  },
  {
   "cell_type": "code",
   "execution_count": 8,
   "metadata": {},
   "outputs": [],
   "source": [
    "s1_spk = site1['spk']"
   ]
  },
  {
   "cell_type": "code",
   "execution_count": 9,
   "metadata": {},
   "outputs": [],
   "source": [
    "#dtype=[('chan', '0'), ('model'), ('depth', '2'), ('position', '3'), ('stim', '4'), \n",
    "#('header'), ('spiketimes', '6'), ('outliers'), ('fs', '8'), ('probechan', '9'), \n",
    "#('meanwaveform', '10')])"
   ]
  },
  {
   "cell_type": "markdown",
   "metadata": {},
   "source": [
    "## Creating a file"
   ]
  },
  {
   "cell_type": "code",
   "execution_count": 10,
   "metadata": {},
   "outputs": [],
   "source": [
    "# random UUID for globally unique tag\n",
    "unique_identifier = str(uuid.uuid4())"
   ]
  },
  {
   "cell_type": "code",
   "execution_count": 11,
   "metadata": {},
   "outputs": [],
   "source": [
    "start_time = datetime.now(tz=tzlocal())\n",
    "create_date = datetime.now(tz=tzlocal())"
   ]
  },
  {
   "cell_type": "code",
   "execution_count": 12,
   "metadata": {},
   "outputs": [],
   "source": [
    "description = \"High-density extracellular recordings from the primary auditory cortex in anesthetized rats listening to dynamic broadband stimuli\"\n",
    "notes = \"High-density extracellular recordings from the primary auditory cortex in anesthetized rats listening to dynamic broadband stimuli \"\n",
    "\n",
    "nwbfile = pynwb.NWBFile(\n",
    "            session_description='Example with various datatypes',\n",
    "            identifier=unique_identifier,\n",
    "            session_start_time=start_time,\n",
    "            file_create_date=create_date,\n",
    "            notes=notes,\n",
    "            experimenter='Jermyn Z. See, Craig A. Atencio, Christoph E. Schreiner ', \n",
    "            experiment_description=description,   \n",
    ")"
   ]
  },
  {
   "cell_type": "markdown",
   "metadata": {},
   "source": [
    "## Creating A Device"
   ]
  },
  {
   "cell_type": "code",
   "execution_count": 13,
   "metadata": {},
   "outputs": [
    {
     "data": {
      "text/plain": [
       "Electrode pynwb.device.Device at 0x2492920874512"
      ]
     },
     "execution_count": 13,
     "metadata": {},
     "output_type": "execute_result"
    }
   ],
   "source": [
    "device = pynwb.file.Device('Electrode')\n",
    "nwbfile.add_device(device)"
   ]
  },
  {
   "cell_type": "markdown",
   "metadata": {},
   "source": [
    "## Electrode Group"
   ]
  },
  {
   "cell_type": "code",
   "execution_count": 14,
   "metadata": {},
   "outputs": [],
   "source": [
    "nwbfile.add_electrode_column(name='probechan',description='Probe Channel')"
   ]
  },
  {
   "cell_type": "code",
   "execution_count": 15,
   "metadata": {},
   "outputs": [],
   "source": [
    "spike_times = []\n",
    "electrode_positions = []\n",
    "electrode_depth = []\n",
    "probe_channels = []\n",
    "for i in range(s1_spk.shape[1]):\n",
    "    unit_spk_times = s1_spk[0,i]['spiketimes'] / 1000.0  # convert to seconds\n",
    "    spike_times.append(unit_spk_times)\n",
    "    electrode_positions.append(s1_spk[0,i]['position'].tolist()[0])\n",
    "    probe_channels.append(s1_spk[0,i]['probechan'].tolist()[0])\n",
    "    electrode_depth.append(s1_spk[0,i]['depth'].tolist()[0])"
   ]
  },
  {
   "cell_type": "code",
   "execution_count": 16,
   "metadata": {},
   "outputs": [],
   "source": [
    "elecs = np.concatenate((probe_channels,electrode_positions),axis=1)"
   ]
  },
  {
   "cell_type": "code",
   "execution_count": 17,
   "metadata": {},
   "outputs": [],
   "source": [
    "un_elecs = np.unique(np.concatenate((probe_channels,electrode_positions,electrode_depth),axis=1), axis=0)"
   ]
  },
  {
   "cell_type": "code",
   "execution_count": 18,
   "metadata": {},
   "outputs": [],
   "source": [
    "for i in range(len(un_elecs)):\n",
    "    eg = nwbfile.create_electrode_group(name='rn1_Channel%s'%un_elecs[i,0],description=\"_\",location=\"_\",device=device) # maybe add position\n",
    "    nwbfile.add_electrode(probechan=un_elecs[i,0],x=float(un_elecs[i,1]),y=float(un_elecs[i,2]),z=float(un_elecs[i,3]),group=eg,location=\"_\")"
   ]
  },
  {
   "cell_type": "markdown",
   "metadata": {},
   "source": [
    "## Spike Event Series"
   ]
  },
  {
   "cell_type": "code",
   "execution_count": 19,
   "metadata": {},
   "outputs": [
    {
     "data": {
      "text/plain": [
       "(1, 31)"
      ]
     },
     "execution_count": 19,
     "metadata": {},
     "output_type": "execute_result"
    }
   ],
   "source": [
    "site1['spk'].shape"
   ]
  },
  {
   "cell_type": "code",
   "execution_count": 20,
   "metadata": {},
   "outputs": [],
   "source": [
    "spk = site1['spk']"
   ]
  },
  {
   "cell_type": "code",
   "execution_count": 21,
   "metadata": {},
   "outputs": [],
   "source": [
    "import numpy as np\n",
    "from pynwb import NWBFile, NWBHDF5IO\n",
    "from pynwb.ecephys import SpikeEventSeries\n",
    "from pynwb.file import DynamicTableRegion\n",
    "\n",
    "for i in range(2):\n",
    "    \n",
    "\n",
    "    row_index = np.where((un_elecs == ((np.concatenate((spk[0,i]['probechan'],spk[0,i]['position'],spk[0,i]['depth']),axis=1)).flatten())).all(axis=1))[0]\n",
    "    \n",
    "    name = 'SingleUnit%s'%i\n",
    "\n",
    "    conversion = 0.000001\n",
    "\n",
    "    \n",
    "    spikedata = np.isin(np.array(np.arange(1,1197265)),spk[0,i]['spiketimes']).astype(dtype='float64')\n",
    "\n",
    "    electrodes = nwbfile.create_electrode_table_region(region=row_index.tolist(),description=\"LMAO\",name='electrodes')\n",
    "\n",
    "    spike_event_series = SpikeEventSeries(name=name+'_SpikeEvents',\n",
    "                                      data=spikedata,\n",
    "                                      timestamps=np.array(np.arange(1,1197265))/(spk[0,i]['fs']).tolist()[0],\n",
    "                                      electrodes=electrodes,\n",
    "                                      conversion=conversion,\n",
    "                                      description='Snapshots of spike events for a single unit')\n",
    "    spikewave = pynwb.ecephys.EventWaveform(spike_event_series, name=name+'_SpikeEventsInt')\n",
    "    \n",
    "    \n",
    "    \n",
    "    spike_event_waveform1 = SpikeEventSeries(name=name+'_SpikeWaveformMean',\n",
    "                                      data=s1_spk[0,i]['meanwaveform'][:,1],\n",
    "                                      timestamps=np.array(np.arange(1,len(spk[0,i]['meanwaveform'])+1))/(spk[0,i]['fs']).tolist()[0],\n",
    "                                      electrodes=electrodes,\n",
    "                                      conversion=conversion,\n",
    "                                      description='Spike mean waveform of the unit')\n",
    "    spikewaveform = pynwb.ecephys.EventWaveform(spike_event_waveform1, name=name+'_SpikeWaveformMean')\n",
    "    \n",
    "    nwbfile.add_acquisition(spikewave)\n",
    "    \n",
    "    nwbfile.add_acquisition(spikewaveform)\n",
    "    \n",
    "    "
   ]
  },
  {
   "cell_type": "code",
   "execution_count": 22,
   "metadata": {},
   "outputs": [],
   "source": [
    "trig_data =  np.isin(np.array(np.arange(1,1197265)),np.array(site1['trigger'].tolist()[0])).astype(dtype='float64')\n",
    "ts1 = pynwb.base.TimeSeries(name='StimTrig',data=site1['trigger'][0,:],starting_time=0.,rate=20000.,unit='Trigger')\n",
    "nwbfile.add_stimulus(ts1)\n",
    "\n",
    "for i in range(2):    \n",
    "\n",
    "    chann = spk[0,i]['chan'].tolist()[0]\n",
    "    \n",
    "    name = 'SingleUnit%s'%i\n",
    "\n",
    "    arr_rounded = np.round((rn1_mat['stim_mat'][chann]).astype(dtype='float64'), decimals=3)\n",
    "    timeseries = pynwb.base.TimeSeries(name=name+'_AcquisitonChannel%s'%chann,data=arr_rounded,starting_time=0.,rate=20000.,unit='volt')\n",
    "     \n",
    "    nwbfile.add_stimulus(timeseries)   "
   ]
  },
  {
   "cell_type": "markdown",
   "metadata": {},
   "source": [
    "## Writing to file"
   ]
  },
  {
   "cell_type": "code",
   "execution_count": 23,
   "metadata": {},
   "outputs": [
    {
     "name": "stdout",
     "output_type": "stream",
     "text": [
      "Created: MyData.nwb\n"
     ]
    }
   ],
   "source": [
    "nwb_file_name = 'MyData.nwb'\n",
    "\n",
    "\n",
    "io = pynwb.NWBHDF5IO(nwb_file_name, mode='w')\n",
    "io.write(nwbfile)\n",
    "io.close()\n",
    "print(\"Created: %s\"%nwb_file_name)"
   ]
  },
  {
   "cell_type": "code",
   "execution_count": 24,
   "metadata": {},
   "outputs": [
    {
     "name": "stdout",
     "output_type": "stream",
     "text": [
      "NWB info\n",
      "\n",
      "Info on MyData.nwb (57736620 bytes; modified: Wed Mar 29 01:53:28 2023)\n",
      "    Attr   .specloc =\t <HDF5 object reference>\n",
      "    Attr   namespace =\t core\n",
      "    Attr   neurodata_type =\t NWBFile\n",
      "    Attr   nwb_version =\t 2.6.0\n",
      "    Attr   object_id =\t 9f76d918-3685-4634-8e78-e1949baa8bfa\n",
      "    Field  lab =\t ---\n",
      "    Field  experimenter =\t [b'Jermyn Z. See, Craig A. Atencio, Christoph E. Schreiner ']\n",
      "    Field  institution =\t ---\n",
      "    Field  lab =\t ---\n",
      "    Field  notes =\t b'High-density extracellular recordings from the primary auditory cortex in anesthetized rats listening to dynamic broadband stimuli '\n",
      "Successfully read file with h5py v3.6.0\n",
      "\n",
      "Loaded without explicitly referring to Silverlab extensions\n",
      "Successfully opened file with pynwb v2.3.1\n",
      "    name = root\n",
      "    notes = High-density extracellular recordings from the primary auditory cortex in anesthetized rats listening to dynamic broadband stimuli \n",
      "    subject = None\n",
      "    experimenter = ('Jermyn Z. See, Craig A. Atencio, Christoph E. Schreiner ',)\n",
      "Notes: High-density extracellular recordings from the primary auditory cortex in anesthetized rats listening to dynamic broadband stimuli \n",
      "Finished looking at file MyData.nwb\n"
     ]
    },
    {
     "data": {
      "text/plain": [
       "root pynwb.file.NWBFile at 0x2492985483376\n",
       "Fields:\n",
       "  acquisition: {\n",
       "    SingleUnit0_SpikeEventsInt <class 'pynwb.ecephys.EventWaveform'>,\n",
       "    SingleUnit0_SpikeWaveformMean <class 'pynwb.ecephys.EventWaveform'>,\n",
       "    SingleUnit1_SpikeEventsInt <class 'pynwb.ecephys.EventWaveform'>,\n",
       "    SingleUnit1_SpikeWaveformMean <class 'pynwb.ecephys.EventWaveform'>\n",
       "  }\n",
       "  devices: {\n",
       "    Electrode <class 'pynwb.device.Device'>\n",
       "  }\n",
       "  electrode_groups: {\n",
       "    rn1_Channel10 <class 'pynwb.ecephys.ElectrodeGroup'>,\n",
       "    rn1_Channel12 <class 'pynwb.ecephys.ElectrodeGroup'>,\n",
       "    rn1_Channel13 <class 'pynwb.ecephys.ElectrodeGroup'>,\n",
       "    rn1_Channel14 <class 'pynwb.ecephys.ElectrodeGroup'>,\n",
       "    rn1_Channel21 <class 'pynwb.ecephys.ElectrodeGroup'>,\n",
       "    rn1_Channel22 <class 'pynwb.ecephys.ElectrodeGroup'>,\n",
       "    rn1_Channel23 <class 'pynwb.ecephys.ElectrodeGroup'>,\n",
       "    rn1_Channel24 <class 'pynwb.ecephys.ElectrodeGroup'>,\n",
       "    rn1_Channel25 <class 'pynwb.ecephys.ElectrodeGroup'>,\n",
       "    rn1_Channel26 <class 'pynwb.ecephys.ElectrodeGroup'>,\n",
       "    rn1_Channel29 <class 'pynwb.ecephys.ElectrodeGroup'>,\n",
       "    rn1_Channel32 <class 'pynwb.ecephys.ElectrodeGroup'>,\n",
       "    rn1_Channel4 <class 'pynwb.ecephys.ElectrodeGroup'>,\n",
       "    rn1_Channel5 <class 'pynwb.ecephys.ElectrodeGroup'>,\n",
       "    rn1_Channel6 <class 'pynwb.ecephys.ElectrodeGroup'>,\n",
       "    rn1_Channel7 <class 'pynwb.ecephys.ElectrodeGroup'>,\n",
       "    rn1_Channel8 <class 'pynwb.ecephys.ElectrodeGroup'>,\n",
       "    rn1_Channel9 <class 'pynwb.ecephys.ElectrodeGroup'>\n",
       "  }\n",
       "  electrodes: electrodes <class 'hdmf.common.table.DynamicTable'>\n",
       "  experiment_description: High-density extracellular recordings from the primary auditory cortex in anesthetized rats listening to dynamic broadband stimuli\n",
       "  experimenter: ['Jermyn Z. See, Craig A. Atencio, Christoph E. Schreiner ']\n",
       "  file_create_date: [datetime.datetime(2023, 3, 29, 1, 53, 26, 699307, tzinfo=tzoffset(None, 19800))]\n",
       "  identifier: 20062b89-ffa4-44ac-b18b-497440e9b299\n",
       "  notes: High-density extracellular recordings from the primary auditory cortex in anesthetized rats listening to dynamic broadband stimuli \n",
       "  session_description: Example with various datatypes\n",
       "  session_start_time: 2023-03-29 01:53:26.699307+05:30\n",
       "  stimulus: {\n",
       "    SingleUnit0_AcquisitonChannel[3] <class 'pynwb.base.TimeSeries'>,\n",
       "    SingleUnit1_AcquisitonChannel[17] <class 'pynwb.base.TimeSeries'>,\n",
       "    StimTrig <class 'pynwb.base.TimeSeries'>\n",
       "  }\n",
       "  timestamps_reference_time: 2023-03-29 01:53:26.699307+05:30"
      ]
     },
     "execution_count": 24,
     "metadata": {},
     "output_type": "execute_result"
    }
   ],
   "source": [
    "import sys\n",
    "sys.path.append(\"../NWB\")\n",
    "\n",
    "import nwb_info\n",
    "\n",
    "nwb_file_name = 'MyData.nwb'\n",
    "nwb_info.print_info(nwb_file_name, verbose=False)"
   ]
  },
  {
   "cell_type": "code",
   "execution_count": null,
   "metadata": {},
   "outputs": [],
   "source": []
  }
 ],
 "metadata": {
  "kernelspec": {
   "display_name": "Python 3 (ipykernel)",
   "language": "python",
   "name": "python3"
  },
  "language_info": {
   "codemirror_mode": {
    "name": "ipython",
    "version": 3
   },
   "file_extension": ".py",
   "mimetype": "text/x-python",
   "name": "python",
   "nbconvert_exporter": "python",
   "pygments_lexer": "ipython3",
   "version": "3.9.12"
  }
 },
 "nbformat": 4,
 "nbformat_minor": 2
}
